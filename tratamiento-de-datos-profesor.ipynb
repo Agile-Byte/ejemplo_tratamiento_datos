{
 "cells": [
  {
   "cell_type": "markdown",
   "metadata": {},
   "source": [
    "## Importamos las librerías necesarias para hacer el análisis"
   ]
  },
  {
   "cell_type": "code",
   "execution_count": null,
   "metadata": {},
   "outputs": [],
   "source": [
    "import pandas as pd\n",
    "import numpy as np\n",
    "import matplotlib.pyplot as plt"
   ]
  },
  {
   "cell_type": "markdown",
   "metadata": {},
   "source": [
    "## Cargamos el dataset"
   ]
  },
  {
   "cell_type": "code",
   "execution_count": null,
   "metadata": {},
   "outputs": [],
   "source": [
    "df = pd.read_excel('listado_coches.xlsx')"
   ]
  },
  {
   "cell_type": "markdown",
   "metadata": {},
   "source": [
    "## Exploración inicial"
   ]
  },
  {
   "cell_type": "code",
   "execution_count": null,
   "metadata": {},
   "outputs": [],
   "source": [
    "# Podemos empezar por ejemplo viendo las primeras filas del dataframe\n",
    "df.head()"
   ]
  },
  {
   "cell_type": "code",
   "execution_count": null,
   "metadata": {},
   "outputs": [],
   "source": [
    "# Una vez que vemos el tipo de dataset que tenemos podemos hacer un análisis un poco más en profundidad para por ejemplo\n",
    "# ver la información sobre el tipo de datos, cantidad de valores nulos etc\n",
    "df.info()\n",
    "\n",
    "# Comprobamos cuantas filas y columnas tenemos en el dataset y ver la volumetría que tiene\n",
    "df.shape"
   ]
  },
  {
   "cell_type": "markdown",
   "metadata": {},
   "source": [
    "En este caso por ejemplo podemos ver que de los 50.000 coches de segunda mano que tenemos en el dataset existen algunos\n",
    "Registros que tienen valores nulos en columnas como Tipo de combustible o Año."
   ]
  },
  {
   "cell_type": "code",
   "execution_count": null,
   "metadata": {},
   "outputs": [],
   "source": [
    "# Relizamos un análisis descriptivo de las columnas numéricas\n",
    "df.describe()"
   ]
  },
  {
   "cell_type": "markdown",
   "metadata": {},
   "source": [
    "## Limpieza del dataset\n",
    "\n",
    "Lo último que quedaría por hacer con un dataset es la fase de limpieza de los datos. En el análisis inicial hemos visto como existen valores null."
   ]
  },
  {
   "cell_type": "code",
   "execution_count": null,
   "metadata": {},
   "outputs": [],
   "source": [
    "# Para eliminar valores null podemos ver que columnas tienen valores null y eliminar las filas que contengan esos valores\n",
    "\n",
    "# Identificar las columnas con valores nulos\n",
    "columnas_con_nulos = df.columns[df.isnull().any()].tolist()\n",
    "print(columnas_con_nulos)\n",
    "\n",
    "# Eliminar los valores nulos en esas columnas\n",
    "df_sin_nulos = df.dropna(subset=columnas_con_nulos)\n",
    "\n",
    "# Podemos comparar los dataframe y veremos como hemos eliminado algunas filas con valores nulos\n",
    "print(\"\\nDataframe completo: \", df.shape)\n",
    "print(\"\\nDataframe con los null filtrados: \", df_sin_nulos.shape)"
   ]
  },
  {
   "cell_type": "code",
   "execution_count": null,
   "metadata": {},
   "outputs": [],
   "source": [
    "# Podemos primero aplicar el filtro con todas las condiciones\n",
    "filtro = (df['Tipo de combustible'] == 'Diésel') & (df['Tipo de cambio'] == 'Manual') & (df['Año'] > 2015)\n",
    "\n",
    "# Filtramos y obtenemos el resultado\n",
    "resultado = df.loc[filtro]\n",
    "print(f\"Existen {resultado.shape[0]} coches que cumplen con los requisitos\")"
   ]
  },
  {
   "cell_type": "markdown",
   "metadata": {},
   "source": [
    "## Exploración gráfica\n",
    "\n",
    "Una imagen vale más que mil palabras por lo que a la hora de analizar un dataset, un análisis gráfico resulta muy beneficioso\n",
    "Podemos realizar tanto gráficas de columnas numéricas como de columnas categóricas"
   ]
  },
  {
   "cell_type": "markdown",
   "metadata": {},
   "source": [
    "#### Columnas numéricas"
   ]
  },
  {
   "cell_type": "code",
   "execution_count": null,
   "metadata": {},
   "outputs": [],
   "source": [
    "df['Año'].hist()\n",
    "plt.xlabel('Año de matriculación')\n",
    "plt.ylabel('Número de coches')\n",
    "plt.title('Histograma de la distribución de años de matriculación')\n",
    "plt.show()"
   ]
  },
  {
   "cell_type": "markdown",
   "metadata": {},
   "source": [
    "#### Ejercicio 1: Crea un diagrama de dispersión que muestre la relación entre el año de un vehículo y su precio "
   ]
  },
  {
   "cell_type": "code",
   "execution_count": null,
   "metadata": {},
   "outputs": [],
   "source": []
  },
  {
   "cell_type": "markdown",
   "metadata": {},
   "source": [
    "#### Solución"
   ]
  },
  {
   "cell_type": "code",
   "execution_count": null,
   "metadata": {},
   "outputs": [],
   "source": [
    "# Crear el diagrama de dispersión\n",
    "plt.scatter(df['Año'], df['Precio'], alpha=0.5)\n",
    "\n",
    "# Personalizar el gráfico\n",
    "plt.title('Relación entre el Año de Matriculación y el Precio del Vehículo')\n",
    "plt.xlabel('Año de Matriculación')\n",
    "plt.ylabel('Precio del Vehículo')\n",
    "\n",
    "# Mostrar el gráfico\n",
    "plt.show()"
   ]
  },
  {
   "cell_type": "markdown",
   "metadata": {},
   "source": []
  },
  {
   "cell_type": "code",
   "execution_count": null,
   "metadata": {},
   "outputs": [],
   "source": [
    "# Columnas categóricas\n",
    "df['Tipo de combustible'].value_counts().plot(kind='bar')\n",
    "plt.xlabel('Tipo de combustible')\n",
    "plt.ylabel('Número de coches')\n",
    "plt.title('Histograma de la distribución de Tipos de combustible')\n",
    "plt.show()"
   ]
  },
  {
   "cell_type": "markdown",
   "metadata": {},
   "source": [
    "#### Ejercicio 2: Crea un treemap de la columna Tipo de combustible.\n"
   ]
  },
  {
   "cell_type": "code",
   "execution_count": null,
   "metadata": {},
   "outputs": [],
   "source": []
  },
  {
   "cell_type": "markdown",
   "metadata": {},
   "source": [
    "#### Solución"
   ]
  },
  {
   "cell_type": "code",
   "execution_count": null,
   "metadata": {},
   "outputs": [],
   "source": [
    "import matplotlib.pyplot as plt\n",
    "import squarify\n",
    "import pandas as pd\n",
    "\n",
    "# Supongamos que tienes un DataFrame llamado df con la columna \"tipo\"\n",
    "# Asegúrate de que el nombre de la columna coincida con tu dataset\n",
    "\n",
    "# Agrupar los datos por la columna \"tipo\" y contar la cantidad de elementos en cada categoría\n",
    "data = df['tipo'].value_counts()\n",
    "\n",
    "# Crear el treemap\n",
    "plt.figure(figsize=(10, 6))  # Ajusta el tamaño del gráfico\n",
    "squarify.plot(sizes=data.values, label=data.index, alpha=0.7)\n",
    "plt.title('Treemap de la columna \"tipo\"')\n",
    "plt.axis('off')  # Desactiva los ejes\n",
    "plt.show()"
   ]
  },
  {
   "cell_type": "markdown",
   "metadata": {},
   "source": [
    "#### matriz de correlación\n",
    "\n",
    "Este termino es muy importante a la hora de realizar un análisis de un dataset ya que indica los coeficientes de correlación de distintas variables. La matriz muestra cómo se relacionan entre sí todos los posibles pares de valores de una tabla"
   ]
  },
  {
   "cell_type": "code",
   "execution_count": null,
   "metadata": {},
   "outputs": [],
   "source": [
    "# Matriz de correlaciones\n",
    "corr_matrix = df.corr()\n",
    "sns.heatmap(corr_matrix, annot=True, cmap='coolwarm')\n",
    "plt.title('Matriz de Correlación')\n",
    "plt.show()"
   ]
  },
  {
   "cell_type": "markdown",
   "metadata": {},
   "source": [
    "Analizando esta matriz podemos sacar varias conclusiones clave como por ejemplo que el valor correlado entre las columnas de Precio y de Kilómetros es negativo por lo que quiere decir que a mayor númer de kilómetros, menor será el precio. Otra conclusión puede ser que cuanto mayor sea el año de matriculación menos kilómetros se habrán hecho. \n",
    "\n",
    "Este es un ejemplo sencillo que simplemente con el sentido común podríamos realizar esta matriz pero en proyectos de decenas de variables es muy importante saber cuales están correladas entre si."
   ]
  },
  {
   "cell_type": "markdown",
   "metadata": {},
   "source": [
    "Como podemos observar se han eliminado 183 filas que tenían valores nulos. También podemos ver las columnas que tenían valores nulos."
   ]
  },
  {
   "cell_type": "markdown",
   "metadata": {},
   "source": [
    "Otra forma de filtrar datos no tiene que ser necesariamente para eliminar valores nulos puede ser por ejemplo una concatenación de condiciones para sacar los datos que necesites.\n",
    "\n",
    "Un ejemplo podría ser sacar todos los coches de tipo Diésel que son manuales y que tienen un año de matriculación superior al 2015. \n"
   ]
  }
 ],
 "metadata": {
  "kernelspec": {
   "display_name": "Python 3",
   "language": "python",
   "name": "python3"
  },
  "language_info": {
   "codemirror_mode": {
    "name": "ipython",
    "version": 3
   },
   "file_extension": ".py",
   "mimetype": "text/x-python",
   "name": "python",
   "nbconvert_exporter": "python",
   "pygments_lexer": "ipython3",
   "version": "3.8.8"
  }
 },
 "nbformat": 4,
 "nbformat_minor": 4
}
