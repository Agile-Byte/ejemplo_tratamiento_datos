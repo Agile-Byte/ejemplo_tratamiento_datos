{
 "cells": [
  {
   "cell_type": "markdown",
   "metadata": {},
   "source": [
    "## Importamos las librerías necesarias para hacer el análisis"
   ]
  },
  {
   "cell_type": "code",
   "execution_count": null,
   "metadata": {},
   "outputs": [],
   "source": [
    "import pandas as pd\n",
    "import numpy as np"
   ]
  },
  {
   "cell_type": "markdown",
   "metadata": {},
   "source": [
    "## Cargamos el dataset"
   ]
  },
  {
   "cell_type": "code",
   "execution_count": null,
   "metadata": {},
   "outputs": [],
   "source": [
    "%%time\n",
    "listado_coches = pd.read_excel('listado_coches.xlsx')\n",
    "listado_coches.shape"
   ]
  },
  {
   "cell_type": "markdown",
   "metadata": {},
   "source": [
    "## Recorremos el dataset de diferentes formas"
   ]
  },
  {
   "cell_type": "markdown",
   "metadata": {},
   "source": [
    "### Iterrows"
   ]
  },
  {
   "cell_type": "markdown",
   "metadata": {},
   "source": [
    "Es un método de los DataFrames en la biblioteca Pandas que permite recorrer filas del DataFrame como pares de índice y Serie. Devuelve un iterador que genera índices y Series para cada fila.\n",
    "\n",
    "**Beneficio**: Es útil cuando necesitas acceder a elementos de cada fila y realizar operaciones específicas en cada fila. Sin embargo, es menos eficiente que otras alternativas cuando se trata de grandes conjuntos de datos debido a su naturaleza iterativa."
   ]
  },
  {
   "cell_type": "code",
   "execution_count": null,
   "metadata": {},
   "outputs": [],
   "source": [
    "%%time \n",
    "total = []\n",
    "for index, row in listado_coches.iterrows():\n",
    "    total.append(row['Precio'] / row['Número de puertas'])"
   ]
  },
  {
   "cell_type": "markdown",
   "metadata": {},
   "source": [
    "### For loop con .loc o .iloc"
   ]
  },
  {
   "cell_type": "markdown",
   "metadata": {},
   "source": [
    "Es un método de indexación en los DataFrames de Pandas que permite seleccionar datos por etiquetas de fila y columna. Puedes usarlo para filtrar filas y columnas específicas basadas en etiquetas.\n",
    "\n",
    "**Beneficios**: Es útil cuando necesitas acceder a filas o columnas específicas por etiquetas, y es eficiente para realizar selecciones específicas de datos en un DataFrame."
   ]
  },
  {
   "cell_type": "code",
   "execution_count": null,
   "metadata": {},
   "outputs": [],
   "source": [
    "%%time \n",
    "total = []\n",
    "for index in range(len(listado_coches)):\n",
    "    total.append(listado_coches['Precio'].loc[index] / \n",
    "                 listado_coches['Número de puertas'].loc[index])"
   ]
  },
  {
   "cell_type": "markdown",
   "metadata": {},
   "source": [
    "### Apply"
   ]
  },
  {
   "cell_type": "markdown",
   "metadata": {},
   "source": [
    "Es un método de Pandas que se utiliza para aplicar una función a lo largo de un eje de un DataFrame o Serie. Puedes utilizarlo para aplicar funciones personalizadas a tus datos.\n",
    "\n",
    "**Beneficios**: Es útil cuando necesitas realizar una transformación personalizada en tus datos y deseas aplicar una función a cada fila o columna. Puede ser más eficiente que iterrows() en muchas situaciones."
   ]
  },
  {
   "cell_type": "code",
   "execution_count": null,
   "metadata": {},
   "outputs": [],
   "source": [
    "%%time \n",
    "lista = listado_coches.apply(\n",
    "    lambda row: row['Precio'] / row['Número de puertas'], axis=1\n",
    ").to_list"
   ]
  },
  {
   "cell_type": "markdown",
   "metadata": {},
   "source": [
    "### Itertuples"
   ]
  },
  {
   "cell_type": "markdown",
   "metadata": {},
   "source": [
    "Es un método de Pandas que permite recorrer un DataFrame como una secuencia de tuplas nombradas, donde cada tupla representa una fila del DataFrame.\n",
    "\n",
    "**Beneficios**: Es más eficiente que iterrows() para recorrer un DataFrame, ya que devuelve las filas como tuplas, lo que evita la sobrecarga de crear Series en cada iteración. Es útil cuando necesitas recorrer el DataFrame fila por fila de manera eficiente."
   ]
  },
  {
   "cell_type": "code",
   "execution_count": null,
   "metadata": {},
   "outputs": [],
   "source": [
    "%%time \n",
    "total = []\n",
    "for row in listado_coches.itertuples():\n",
    "    total.append(row.Precio / row.Año)"
   ]
  },
  {
   "cell_type": "markdown",
   "metadata": {},
   "source": [
    "### List comprehensions"
   ]
  },
  {
   "cell_type": "markdown",
   "metadata": {},
   "source": [
    "Las comprensiones de lista son una construcción en Python que te permite crear una nueva lista aplicando una expresión a cada elemento de una secuencia, como un DataFrame o una Serie.\n",
    "\n",
    "**Beneficios**: Las comprensiones de lista son útiles cuando deseas crear una nueva lista a partir de los datos existentes en tu DataFrame. Son concisas y eficientes en términos de rendimiento, pero no son adecuadas para operaciones que requieren el procesamiento de cada fila de manera individual."
   ]
  },
  {
   "cell_type": "code",
   "execution_count": null,
   "metadata": {},
   "outputs": [],
   "source": [
    "%%time\n",
    "lista = [precio / num_puertas for precio, num_puertas in zip(\n",
    "    listado_coches['Precio'], listado_coches['Número de puertas']\n",
    ")]"
   ]
  }
 ],
 "metadata": {
  "kernelspec": {
   "display_name": "Python 3",
   "language": "python",
   "name": "python3"
  },
  "language_info": {
   "codemirror_mode": {
    "name": "ipython",
    "version": 3
   },
   "file_extension": ".py",
   "mimetype": "text/x-python",
   "name": "python",
   "nbconvert_exporter": "python",
   "pygments_lexer": "ipython3",
   "version": "3.8.8"
  }
 },
 "nbformat": 4,
 "nbformat_minor": 4
}
